{
 "cells": [
  {
   "cell_type": "markdown",
   "metadata": {},
   "source": [
    "Hey look it's a Jupyter notebook. They're nice because you can have a text cell like this one, where you can put a bunch of text. So let's say this is an example for a masterclass about histograms (I assume all maths masterclasses are about histograms, that's a maths thing). This would be some text about histograms, like bins and columns and all that exciting histogram jazz that we want the students to understand.\n",
    "\n",
    "But because this is a Jupyter notebook you can also have executable/editable code in the same page, so the cell below this one is some python code to generage 1000 normally distributed random integers and plot them in a histogram:"
   ]
  },
  {
   "cell_type": "code",
   "execution_count": 6,
   "metadata": {},
   "outputs": [
    {
     "data": {
      "image/png": "[encoded data removed]",
      "text/plain": [
       "<Figure size 432x288 with 1 Axes>"
      ]
     },
     "metadata": {
      "needs_background": "light"
     },
     "output_type": "display_data"
    }
   ],
   "source": [
    "import matplotlib.pyplot as plt\n",
    "import numpy as np\n",
    "# if using a Jupyter notebook, includue:\n",
    "%matplotlib inline\n",
    "\n",
    "mu = 80\n",
    "sigma = 7\n",
    "x = np.random.normal(mu, sigma, size=1000)\n",
    "\n",
    "plt.hist(x, 20,\n",
    "         density=True,\n",
    "         histtype='bar',\n",
    "         facecolor='b',\n",
    "         alpha=0.5)\n",
    "\n",
    "plt.show()"
   ]
  },
  {
   "cell_type": "markdown",
   "metadata": {},
   "source": [
    "Which is fun - the Jupyter notebook doesn't just let you show code, it also executes the code and outputs all of the results (which could be tables, text, images etc as well as plots).\n",
    "\n",
    "If you re-execute the code (click into the cell above, then press Shift+Enter) the histogram should be re-generated and look different because random. \n",
    "\n",
    "You can also edit the code and re-execute - change mu and sigma etc to get a different plot (the axes scale automatically so it'll probably only be the axis ranges that change much."
   ]
  },
  {
   "cell_type": "markdown",
   "metadata": {},
   "source": [
    "If this is useful for maths masterclass demo/exploration type stuff, but code like that above might make it a bit more complicated that you want, it's possible to hide the code in a module file and just give the students high level commands to plot stuff. In the code cell below, I'm importing a module I've created (which isn't visible in the notebook) that contains all of the code used above, but wraps it up in a function called do_a_maths which takes mu and sigma arguments. Same outcome, much easier to use, depends if you want to expose students to the code or not."
   ]
  },
  {
   "cell_type": "code",
   "execution_count": 7,
   "metadata": {},
   "outputs": [
    {
     "data": {
      "image/png": "[encoded data removed]",
      "text/plain": [
       "<Figure size 432x288 with 1 Axes>"
      ]
     },
     "metadata": {
      "needs_background": "light"
     },
     "output_type": "display_data"
    }
   ],
   "source": [
    "from secret_module import do_a_maths\n",
    "\n",
    "mu = 80\n",
    "sigma = 7\n",
    "do_a_maths(mu,sigma)"
   ]
  },
  {
   "cell_type": "markdown",
   "metadata": {},
   "source": [
    "And the Jupyter notebook is always a functioning python environment, so you can chuck any python in the code cell below and it should do it's thing."
   ]
  },
  {
   "cell_type": "code",
   "execution_count": 3,
   "metadata": {},
   "outputs": [
    {
     "name": "stdout",
     "output_type": "stream",
     "text": [
      "Maths is all about numbers\n"
     ]
    }
   ],
   "source": [
    "#this is a whole python environment woo! I can put any code in here and I should get some results, for example:\n",
    "print(\"Maths is all about numbers\")"
   ]
  },
  {
   "cell_type": "code",
   "execution_count": 4,
   "metadata": {},
   "outputs": [],
   "source": [
    "#so is this, if you wanted to you could put anything in here and it should work. Imagine the possibilities!\n",
    "\n",
    "\n"
   ]
  },
  {
   "cell_type": "markdown",
   "metadata": {},
   "source": [
    "This particular jupyter notebook is running in Binder, which makes the notebook available in a browser (I wrote this on my local computer). I'm trying to figure out a few things to see if these are suitable for Masterclasses:\n",
    "\n",
    "It seems like any changes made to the notebook are specific to the person editing them, so a whole class can open the link and have their own version. This is good.\n",
    "I can't figure out if there's a way to keep the notebook running for a user if they close the browser window. If you edit this, close the browser tab, then open the link again you'll get a fresh version. This is less good (work lost if browser closes)"
   ]
  },
  {
   "cell_type": "code",
   "execution_count": null,
   "metadata": {},
   "outputs": [],
   "source": []
  }
 ],
 "metadata": {
  "kernelspec": {
   "display_name": "Python 3",
   "language": "python",
   "name": "python3"
  },
  "language_info": {
   "codemirror_mode": {
    "name": "ipython",
    "version": 3
   },
   "file_extension": ".py",
   "mimetype": "text/x-python",
   "name": "python",
   "nbconvert_exporter": "python",
   "pygments_lexer": "ipython3",
   "version": "3.7.6"
  }
 },
 "nbformat": 4,
 "nbformat_minor": 4
}
